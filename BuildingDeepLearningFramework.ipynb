{
  "nbformat": 4,
  "nbformat_minor": 0,
  "metadata": {
    "colab": {
      "name": "BuildingDeepLearningFramework.ipynb",
      "provenance": [],
      "collapsed_sections": []
    },
    "kernelspec": {
      "name": "python3",
      "display_name": "Python 3"
    },
    "language_info": {
      "name": "python"
    }
  },
  "cells": [
    {
      "cell_type": "markdown",
      "source": [
        "<h2> Introduction to Tensors </h2>"
      ],
      "metadata": {
        "id": "Tw6bnQTWbQ8-"
      }
    },
    {
      "cell_type": "code",
      "execution_count": 1,
      "metadata": {
        "colab": {
          "base_uri": "https://localhost:8080/"
        },
        "id": "Me_O1PHAa_Ji",
        "outputId": "79dc76d4-6fdc-4a2c-ebf3-5d2e84d9902b"
      },
      "outputs": [
        {
          "output_type": "stream",
          "name": "stdout",
          "text": [
            "[ 2  6 12 20]\n"
          ]
        }
      ],
      "source": [
        "import numpy as np\n",
        "\n",
        "\n",
        "class Tensor(object):\n",
        "\n",
        "  def __init__(self,data):\n",
        "    self.data = np.array(data)\n",
        "\n",
        "  def __add__(self,other):\n",
        "    return Tensor(self.data+other.data)\n",
        "\n",
        "  def __repr__(self):\n",
        "    return str(self.data.__repr__())\n",
        "\n",
        "  def __mul__(self,other):\n",
        "    return Tensor(self.data*other.data)\n",
        "\n",
        "  def __neg__(self):\n",
        "    return Tensor(self.data*-1)\n",
        "\n",
        "  def __str__(self):\n",
        "    return str(self.data.__str__())\n",
        "\n",
        "\n",
        "a = Tensor([1,2,3,4])\n",
        "b = Tensor([2,3,4,5])\n",
        "\n",
        "print(a * b)"
      ]
    },
    {
      "cell_type": "code",
      "source": [
        "a + -b"
      ],
      "metadata": {
        "colab": {
          "base_uri": "https://localhost:8080/"
        },
        "id": "pnJ1UE2_nJtt",
        "outputId": "bffdfc45-0684-44f5-e238-9bb9417c9fbd"
      },
      "execution_count": 2,
      "outputs": [
        {
          "output_type": "execute_result",
          "data": {
            "text/plain": [
              "array([-1, -1, -1, -1])"
            ]
          },
          "metadata": {},
          "execution_count": 2
        }
      ]
    },
    {
      "cell_type": "code",
      "source": [
        "b = -b\n",
        "a + b"
      ],
      "metadata": {
        "colab": {
          "base_uri": "https://localhost:8080/",
          "height": 182
        },
        "id": "uIyvdunHqPg-",
        "outputId": "5bb0ce6f-ddba-41cb-e12b-9683d37248c8"
      },
      "execution_count": null,
      "outputs": [
        {
          "output_type": "error",
          "ename": "TypeError",
          "evalue": "ignored",
          "traceback": [
            "\u001b[0;31m---------------------------------------------------------------------------\u001b[0m",
            "\u001b[0;31mTypeError\u001b[0m                                 Traceback (most recent call last)",
            "\u001b[0;32m<ipython-input-15-a73021751b4f>\u001b[0m in \u001b[0;36m<module>\u001b[0;34m()\u001b[0m\n\u001b[0;32m----> 1\u001b[0;31m \u001b[0mb\u001b[0m \u001b[0;34m=\u001b[0m \u001b[0;34m-\u001b[0m\u001b[0mb\u001b[0m\u001b[0;34m\u001b[0m\u001b[0;34m\u001b[0m\u001b[0m\n\u001b[0m\u001b[1;32m      2\u001b[0m \u001b[0ma\u001b[0m \u001b[0;34m+\u001b[0m \u001b[0mb\u001b[0m\u001b[0;34m\u001b[0m\u001b[0;34m\u001b[0m\u001b[0m\n",
            "\u001b[0;31mTypeError\u001b[0m: bad operand type for unary -: 'Tensor'"
          ]
        }
      ]
    },
    {
      "cell_type": "markdown",
      "source": [
        "<h2> Automatic gradient computation </h2>"
      ],
      "metadata": {
        "id": "c194xEiBu7ng"
      }
    },
    {
      "cell_type": "code",
      "source": [
        "class Tensor(object):\n",
        "  def __init__(self,data,creators=None,creation_op=None):\n",
        "    self.data = np.array(data)\n",
        "    self.creators = creators\n",
        "    self.creation_op = creation_op\n",
        "    self.grad = None\n",
        "\n",
        "  def __add__(self,other):\n",
        "    return Tensor(self.data + other.data,creators=[self,other],creation_op=\"add\")\n",
        "\n",
        "  def backward(self,grad):\n",
        "    self.grad = grad\n",
        "\n",
        "    if self.creation_op == \"add\":\n",
        "      self.creators[0].backward(grad)\n",
        "      self.creators[1].backward(grad)\n",
        "  def __repr__(self):\n",
        "    return str(self.data.__repr__())\n",
        "\n",
        "  def __str__(self):\n",
        "    return str(self.data.__str__())\n",
        "\n",
        "\n",
        "a = Tensor([1,2,3,4])\n",
        "b = Tensor([2,3,4,5])\n",
        "c = a + b\n",
        "print(c)"
      ],
      "metadata": {
        "colab": {
          "base_uri": "https://localhost:8080/"
        },
        "id": "yzxhJO9SvCAn",
        "outputId": "a14c80e9-ee9f-40dd-b88a-1ba71ec8625f"
      },
      "execution_count": null,
      "outputs": [
        {
          "output_type": "stream",
          "name": "stdout",
          "text": [
            "[3 5 7 9]\n"
          ]
        }
      ]
    },
    {
      "cell_type": "code",
      "source": [
        "c.backward(Tensor(np.array([1,1,1,1])))"
      ],
      "metadata": {
        "id": "_lRZTS2MwNuz"
      },
      "execution_count": null,
      "outputs": []
    },
    {
      "cell_type": "code",
      "source": [
        "a = Tensor([1,2,3,4,5])\n",
        "b = Tensor([2,2,2,2,2])\n",
        "c = Tensor([5,4,3,2,1])\n",
        "d = Tensor([-1,-2,-3,-4,-5])\n",
        "e = a + b\n",
        "f = c + d\n",
        "g = e + f\n",
        "g.backward(Tensor(np.array([1,1,1,1,1])))\n"
      ],
      "metadata": {
        "id": "uhw2awiywS95"
      },
      "execution_count": null,
      "outputs": []
    },
    {
      "cell_type": "code",
      "source": [
        "a = Tensor([1,2,3,4,5])\n",
        "b = Tensor([1,2,3,4,6])\n",
        "c = Tensor([-1,-2,-3,-4,-5])\n",
        "f = a + b\n",
        "e = b + f\n",
        "e.backward(Tensor([1,1,1,1,1]))\n"
      ],
      "metadata": {
        "id": "RyjAxFPK4tv5"
      },
      "execution_count": null,
      "outputs": []
    },
    {
      "cell_type": "code",
      "source": [
        "b.grad"
      ],
      "metadata": {
        "colab": {
          "base_uri": "https://localhost:8080/"
        },
        "id": "u59tpBYf5BAh",
        "outputId": "7c7694b3-4f41-4ed7-db9c-ea0497946d74"
      },
      "execution_count": null,
      "outputs": [
        {
          "output_type": "execute_result",
          "data": {
            "text/plain": [
              "array([1, 1, 1, 1, 1])"
            ]
          },
          "metadata": {},
          "execution_count": 8
        }
      ]
    },
    {
      "cell_type": "markdown",
      "source": [
        "<h2> Autograd to support Multiuse tensors </h2>"
      ],
      "metadata": {
        "id": "IBxWLBCqzz2F"
      }
    },
    {
      "cell_type": "code",
      "source": [
        "class Tensor(object):\n",
        "  def __init__(self,data,autograd = False,creators=None,creation_op=None,id=None):\n",
        "    self.data = np.array(data)\n",
        "    self.creators = creators\n",
        "    self.creation_op = creation_op\n",
        "    self.grad = None\n",
        "    self.autograd = autograd\n",
        "    self.children = {}\n",
        "    if id is None:\n",
        "      id = np.random.randint(0,100000)\n",
        "    self.id = id\n",
        "\n",
        "    if creators is not None:\n",
        "      for c in creators:\n",
        "        if self.id not in c.children:\n",
        "          c.children[self.id] = 1\n",
        "        else:\n",
        "          c.children[self.id] += 1\n",
        "\n",
        "\n",
        "  def __add__(self,other):\n",
        "    if self.autograd and other.autograd:\n",
        "      return Tensor(self.data + other.data,autograd=True,creators=[self,other],creation_op=\"add\")\n",
        "    return Tensor(self.data+other.data)\n",
        "\n",
        "  def __repr__(self):\n",
        "    return str(self.data.__repr__())\n",
        "  \n",
        "  def __str__(self):\n",
        "    return str(self.data.__str__())\n",
        "\n",
        "  def all_children_grads_accounted_for(self):\n",
        "    for id,cnt in self.children.items():\n",
        "      if cnt != 0:\n",
        "        return False\n",
        "    return True\n",
        "\n",
        "  def backward(self,grad=None,grad_origin=None):\n",
        "    if self.autograd:\n",
        "      if grad_origin is not None:\n",
        "        if self.children[grad_origin.id] == 0 :\n",
        "          raise Exception(\"Cannot backprop more than once\")\n",
        "        else:\n",
        "          self.children[grad_origin.id] -= 1\n",
        "      if self.grad is None:\n",
        "        self.grad = grad\n",
        "      else:\n",
        "        self.grad += grad\n",
        "      \n",
        "      if self.creators is not None and (self.all_children_grads_accounted_for() or grad_origin is None):\n",
        "        if self.creation_op == 'add':\n",
        "          self.creators[0].backward(self.grad,self)\n",
        "          self.creators[1].backward(self.grad,self) \n"
      ],
      "metadata": {
        "id": "yfNO4Bx-z6f_"
      },
      "execution_count": null,
      "outputs": []
    },
    {
      "cell_type": "code",
      "source": [
        "a = Tensor([1,2,3,4,5],autograd=True)\n",
        "b = Tensor([1,2,3,4,6],autograd=True)\n",
        "c = Tensor([-1,-2,-3,-4,-5],autograd=True)\n",
        "f = a + b\n",
        "e = b + f\n",
        "e.backward(Tensor([1,1,1,1,1]))\n"
      ],
      "metadata": {
        "id": "t2jEnkQRxWGT"
      },
      "execution_count": null,
      "outputs": []
    },
    {
      "cell_type": "code",
      "source": [
        "b.grad"
      ],
      "metadata": {
        "colab": {
          "base_uri": "https://localhost:8080/"
        },
        "id": "glgU6THB5-4H",
        "outputId": "16868f08-e620-470e-e3be-6cd54329a28b"
      },
      "execution_count": null,
      "outputs": [
        {
          "output_type": "execute_result",
          "data": {
            "text/plain": [
              "array([2, 2, 2, 2, 2])"
            ]
          },
          "metadata": {},
          "execution_count": 11
        }
      ]
    },
    {
      "cell_type": "markdown",
      "source": [
        "<h2> Adding support for negation </h2>\n"
      ],
      "metadata": {
        "id": "n51dzhM_7En2"
      }
    },
    {
      "cell_type": "code",
      "source": [
        "class Tensor(object):\n",
        "  def __init__(self,data,autograd=False,creators=None,creation_op=None):\n",
        "\n",
        "    self.data = np.array(data)\n",
        "    self.autograd = autograd\n",
        "    self.grad = None\n",
        "    self.children = {}\n",
        "    self.creators = creators\n",
        "    self.creation_op = creation_op\n",
        "    self.id = None\n",
        "    if self.id is None:\n",
        "      id = np.random.randint(0,100000)\n",
        "    self.id = id\n",
        "\n",
        "    if self.creators is not None:\n",
        "      for c in self.creators:\n",
        "        if self.id not in c.children:\n",
        "          c.children[self.id] = 1\n",
        "        else:\n",
        "          c.children[self.id] += 1\n",
        "    \n",
        "  def __add__(self,other):\n",
        "    if self.autograd and other.autograd:\n",
        "      return Tensor(self.data+other.data,autograd=True,creators=[self,other],creation_op=\"add\")\n",
        "    return Tensor(self.data+other.data)\n",
        "\n",
        "  \n",
        "  def __neg__(self):\n",
        "    if self.autograd:\n",
        "      return Tensor(self.data*-1,autograd=True,creators=[self],creation_op=\"neg\")\n",
        "    return Tensor(self.data*-1)\n",
        "\n",
        "  def all_children_grads_accounted_for(self):\n",
        "    for id,count in self.children.items():\n",
        "      if count != 0:\n",
        "        return False\n",
        "    return True\n",
        "\n",
        "\n",
        "  def __str__(self):\n",
        "    return self.data.__str__()\n",
        "\n",
        "  def __repr__(self):\n",
        "    return str(self.data.__repr__())\n",
        "\n",
        "  def backward(self,grad,grad_origin=None):\n",
        "    if self.autograd:\n",
        "      if grad_origin is not None:\n",
        "        if self.children[grad_origin.id] == 0:\n",
        "          raise Exception(\"Cannot backprop more than once\")\n",
        "        else:\n",
        "          self.children[grad_origin.id] -= 1\n",
        "\n",
        "      if self.grad is None:\n",
        "        self.grad = grad\n",
        "      else:\n",
        "        self.grad += grad\n",
        "\n",
        "      if self.creators is not  None and (self.all_children_grads_accounted_for() or grad_origin is None):\n",
        "        if self.creation_op == \"add\":\n",
        "          self.creators[0].backward(self.grad,self)\n",
        "          self.creators[1].backward(self.grad,self)\n",
        "        \n",
        "        elif self.creation_op == \"neg\":\n",
        "          #Enew = self.grad.data * -1\n",
        "          self.creators[0].backward(self.grad.__neg__(),self)\n",
        "\n",
        "\n"
      ],
      "metadata": {
        "id": "1xx5JYoqnkh3"
      },
      "execution_count": null,
      "outputs": []
    },
    {
      "cell_type": "code",
      "source": [
        "b = Tensor([1,2,3,4],autograd=True)\n",
        "a = Tensor([4,5,6,7],autograd=True)\n",
        "c = a + (-b)"
      ],
      "metadata": {
        "id": "NIJXTVWGQXgc"
      },
      "execution_count": null,
      "outputs": []
    },
    {
      "cell_type": "code",
      "source": [
        "c.backward(np.array([1,1,1,1]))"
      ],
      "metadata": {
        "id": "bLkX0i4YSQhg"
      },
      "execution_count": null,
      "outputs": []
    },
    {
      "cell_type": "code",
      "source": [
        "b.grad"
      ],
      "metadata": {
        "colab": {
          "base_uri": "https://localhost:8080/"
        },
        "id": "JktLFgefT3e-",
        "outputId": "838778fa-aa17-4871-aff9-4cf3bbeab9e6"
      },
      "execution_count": null,
      "outputs": [
        {
          "output_type": "execute_result",
          "data": {
            "text/plain": [
              "array([-1, -1, -1, -1])"
            ]
          },
          "metadata": {},
          "execution_count": 44
        }
      ]
    },
    {
      "cell_type": "markdown",
      "source": [
        "<h2> Adding other operations </h2>"
      ],
      "metadata": {
        "id": "WHnJhDHtUdxC"
      }
    },
    {
      "cell_type": "code",
      "source": [
        "class Tensor(object):\n",
        "  def __init__(self,data,autograd=False,creators=None,creation_op=None):\n",
        "    self.data = np.array(data)\n",
        "    self.autograd = autograd\n",
        "    self.creators = creators\n",
        "    self.children = {}\n",
        "    self.creation_op = creation_op\n",
        "    self.id = None\n",
        "    self.grad = None\n",
        "\n",
        "    if self.id is None:\n",
        "      id = np.random.randint(0,100000)\n",
        "    self.id = id\n",
        "\n",
        "    if self.creators is not None:\n",
        "      for c in self.creators:\n",
        "        if self.id not in c.children:\n",
        "          c.children[self.id] = 1\n",
        "        else:\n",
        "          c.children[self.id] += 1\n",
        "\n",
        "  def __add__(self,other):\n",
        "    if self.autograd and other.autograd:\n",
        "      return Tensor(self.data+other.data,autograd=True,creators=[self,other],creation_op=\"add\")\n",
        "    return Tensor(self.data+other.data)\n",
        "\n",
        "  def __neg__(self):\n",
        "    if self.autograd:\n",
        "      return Tensor(self.data*-1,autograd=True,creators=[self],creation_op=\"neg\")\n",
        "    return Tensor(self.data*-1)\n",
        "\n",
        "  def all_children_grads_accounted_for(self):\n",
        "    for id,count in self.children.items():\n",
        "      if count != 0:\n",
        "        return False\n",
        "    return True\n",
        "\n",
        "  def __sub__(self,other):\n",
        "    if self.autograd and other.autograd:\n",
        "      return Tensor(self.data-other.data,autograd=True,creators=[self,other],creation_op=\"sub\")\n",
        "    return Tensor(self.data-other.data)\n",
        "\n",
        "  def __mul__(self,other):\n",
        "    if self.autograd and other.autograd:\n",
        "      return Tensor(self.data*other.data,autograd=True,creators=[self,other],creation_op=\"mul\")\n",
        "    return Tensor(self.data*other.data)\n",
        "\n",
        "  def expand(self,dim,copies):\n",
        "    transpose_axis = list(range(0,len(self.data.shape)))\n",
        "    transpose_axis.insert(dim,len(self.data.shape))\n",
        "    new_shape = list(self.data.shape) + [copies]\n",
        "    new_data = self.data.repeat(copies).reshape(new_shape)\n",
        "    new_data = new_data.transpose(transpose_axis)\n",
        "\n",
        "    if self.autograd:\n",
        "      return Tensor(new_data,autograd=True,creators=[self],creation_op='expand_'+str(dim))\n",
        "    return Tensor(new_data)\n",
        "  \n",
        "  def sum(self,dim):\n",
        "    if self.autograd:\n",
        "      return Tensor(self.data.sum(dim),autograd=True,creators=[self],creation_op=\"sum_\"+str(dim))\n",
        "    return Tensor(self.data.sum(dim))\n",
        "\n",
        "  def mm(self,x):\n",
        "    if self.autograd:\n",
        "      #print(x.data.shape)\n",
        "      #print(self.data.shape)\n",
        "      return Tensor(self.data.dot(x.data),autograd=True,creators=[self,x],creation_op=\"mm\")\n",
        "    return Tensor(self.data.dot(x.data))\n",
        "\n",
        "  def transpose(self):\n",
        "    if self.autograd:\n",
        "      return Tensor(self.data.transpose(),autograd=True,creators=[self],creation_op=\"transpose\")\n",
        "    return Tensor(self.data.transpose())\n",
        "\n",
        "  def backward(self,grad=None,grad_origin=None):\n",
        "    if self.autograd:\n",
        "      if grad_origin is not None:\n",
        "        if self.children[grad_origin.id] == 0:\n",
        "          raise Exception(\"Cannot backprop more than once\")\n",
        "        else:\n",
        "          self.children[grad_origin.id] -= 1\n",
        "      if self.grad is None:\n",
        "        self.grad = grad\n",
        "      else:\n",
        "        self.grad += grad\n",
        "\n",
        "      if self.creators is not None and (self.all_children_grads_accounted_for() or grad_origin is None): # if node has creator and all its children nodes gradients are computed or if its leaf node then compute backward propagation\n",
        "        if self.creation_op == \"sub\":\n",
        "          new = Tensor(self.grad.data)\n",
        "          self.creators[0].backward(new,self)\n",
        "          \n",
        "          self.creators[1].backward(self.grad.__neg__(),self)\n",
        "        elif self.creation_op == \"add\":\n",
        "          self.creators[0].backward(self.grad,self)\n",
        "          self.creators[1].backward(self.grad,self)\n",
        "        \n",
        "        elif self.creation_op == \"mul\":\n",
        "          new = self.grad * self.creators[1]\n",
        "          self.creators[0].backward(new,self)\n",
        "          new = self.grad * self.creators[0]\n",
        "          self.creators[1].backward(new,self)\n",
        "        \n",
        "        elif self.creation_op == \"mm\":\n",
        "          act = self.creators[0]\n",
        "          weights = self.creators[1]\n",
        "          new = self.grad.mm(weights.transpose())\n",
        "          act.backward(new)\n",
        "          new = self.grad.transpose().mm(act).transpose()\n",
        "          weights.backward(new)\n",
        "        \n",
        "        elif self.creation_op == \"transpose\":\n",
        "          self.creators[0].backward(self.grad.transpose())\n",
        "\n",
        "        elif \"sum\" in self.creation_op:\n",
        "          #print(self.creation_op)\n",
        "          dim = int(self.creation_op.split('_')[1])\n",
        "          ds = self.creators[0].data.shape[dim] \n",
        "          self.creators[0].backward(self.grad.expand(dim,ds))\n",
        "\n",
        "        elif \"expand\" in self.creation_op:\n",
        "          dim = int(self.creation_op.split('_')[1])\n",
        "          self.creators[0].backward(self.grad.sum(dim))"
      ],
      "metadata": {
        "id": "mkqQMwb9Ug_c"
      },
      "execution_count": 135,
      "outputs": []
    },
    {
      "cell_type": "markdown",
      "source": [
        "## Using Autograd to train a neural network"
      ],
      "metadata": {
        "id": "lLUbD9Zk4KyE"
      }
    },
    {
      "cell_type": "code",
      "source": [
        "import numpy as np\n",
        "np.random.seed(0)\n",
        "\n",
        "data = Tensor(np.array([[0,0],[0,1],[1,0],[1,1]]),autograd=True)\n",
        "target = Tensor(np.array([[0],[1],[0],[1]]),autograd=True)\n",
        "\n",
        "w = []\n",
        "w.append(Tensor(np.random.rand(2,3),autograd=True))\n",
        "w.append(Tensor(np.random.rand(3,1),autograd=True))\n",
        "\n",
        "for i in range(10):\n",
        "\n",
        "  pred = data.mm(w[0]).mm(w[1])\n",
        "  \n",
        "  loss = ((pred - target)*(pred - target)).sum(0)\n",
        "  #print(loss)\n",
        "  loss.backward(Tensor(np.ones_like(loss.data)))\n",
        "\n",
        "  for w_ in w:\n",
        "    w_.data -= w_.grad.data * 0.1\n",
        "    w_.grad.data *= 0\n",
        "  print(loss.data)"
      ],
      "metadata": {
        "colab": {
          "base_uri": "https://localhost:8080/"
        },
        "id": "stH56VXt4Pev",
        "outputId": "8519f83c-78a4-47b9-9f3d-319fc72d599d"
      },
      "execution_count": 72,
      "outputs": [
        {
          "output_type": "stream",
          "name": "stdout",
          "text": [
            "[0.58128304]\n",
            "[0.48988149]\n",
            "[0.41375111]\n",
            "[0.34489412]\n",
            "[0.28210124]\n",
            "[0.2254484]\n",
            "[0.17538853]\n",
            "[0.1324231]\n",
            "[0.09682769]\n",
            "[0.06849361]\n"
          ]
        }
      ]
    },
    {
      "cell_type": "markdown",
      "source": [
        "## Adding Automatic Optimization"
      ],
      "metadata": {
        "id": "TKx5tAKA-Xfe"
      }
    },
    {
      "cell_type": "code",
      "source": [
        "class SGD:\n",
        "  def __init__(self,parameters,lr=0.01):\n",
        "    self.parameters = parameters\n",
        "    self.lr = lr\n",
        "  def zero_grad(self):\n",
        "    ##print(self.parameters)\n",
        "    for p in self.parameters:\n",
        "      if not p.grad:\n",
        "        break\n",
        "      else:\n",
        "        p.grad.data *= 0\n",
        "\n",
        "  def step(self):\n",
        "\n",
        "    for p in self.parameters:\n",
        "      p.data -= p.grad.data * self.lr\n",
        "\n"
      ],
      "metadata": {
        "id": "Q0fCekJb-aQ-"
      },
      "execution_count": 87,
      "outputs": []
    },
    {
      "cell_type": "code",
      "source": [
        "\n",
        "data = Tensor(np.array([[0,1],[1,1],[1,0],[1,1]]),autograd=True)\n",
        "target = Tensor(np.array([[0],[1],[0],[1]]),autograd=True) \n",
        "\n",
        "weights = []\n",
        "weights.append(Tensor(np.random.rand(2,3),autograd=True))\n",
        "weights.append(Tensor(np.random.rand(3,1),autograd=True))\n",
        "sgd = SGD(parameters=weights,lr=0.01)\n",
        "for i in range(10):\n",
        "\n",
        "  pred = data.mm(weights[0]).mm(weights[1])\n",
        "\n",
        "  loss = ((pred - target)*(pred - target)).sum(0)\n",
        "  sgd.zero_grad()\n",
        "  loss.backward(Tensor(np.ones_like(loss.data)))\n",
        "\n",
        "  \n",
        "\n",
        "  sgd.step()\n",
        "\n",
        "  print(loss.data)\n",
        "\n"
      ],
      "metadata": {
        "colab": {
          "base_uri": "https://localhost:8080/"
        },
        "id": "sBB30gGD-95H",
        "outputId": "e06632a5-7c76-41cc-b3bc-5a1e712cda3b"
      },
      "execution_count": 89,
      "outputs": [
        {
          "output_type": "stream",
          "name": "stdout",
          "text": [
            "[2.00105624]\n",
            "[1.33741065]\n",
            "[1.00490479]\n",
            "[0.82498041]\n",
            "[0.72220759]\n",
            "[0.66086417]\n",
            "[0.62270955]\n",
            "[0.5979335]\n",
            "[0.58106149]\n",
            "[0.56895512]\n"
          ]
        }
      ]
    },
    {
      "cell_type": "markdown",
      "source": [
        "## Adding support for layer"
      ],
      "metadata": {
        "id": "V-Hb2SEWBK_U"
      }
    },
    {
      "cell_type": "code",
      "source": [
        "class Layer:\n",
        "  def __init__(self):\n",
        "    self.parameters = []\n",
        "  \n",
        "  def get_parameters(self):\n",
        "    return self.parameters\n",
        "\n",
        "class Linear(Layer):\n",
        "  def __init__(self,num_inputs,num_outputs):\n",
        "    super(Linear,self).__init__()\n",
        "    weights = np.random.rand(num_inputs,num_outputs)\n",
        "    bias = np.zeros(num_outputs)\n",
        "\n",
        "    self.weights = Tensor(weights,autograd=True) \n",
        "    self.bias = Tensor(bias,autograd=True)\n",
        "\n",
        "    self.parameters.append(self.weights)\n",
        "    self.parameters.append(self.bias)\n",
        "\n",
        "  def forward(self,x):\n",
        "    return x.mm(self.weights) + self.bias.expand(0,len(x.data))\n",
        "\n",
        "\n",
        "  #def backward(self):\n",
        "\n"
      ],
      "metadata": {
        "id": "h-s4XrW9BNzX"
      },
      "execution_count": 101,
      "outputs": []
    },
    {
      "cell_type": "markdown",
      "source": [
        "## Layers that contain layers"
      ],
      "metadata": {
        "id": "72T9jEzFDUVM"
      }
    },
    {
      "cell_type": "code",
      "source": [
        "class Sequential(Layer):\n",
        "  def __init__(self,layers=[]):\n",
        "    super().__init__()\n",
        "    self.layers = layers\n",
        "\n",
        "  def add(self,layer):\n",
        "    self.layers.append(layer)\n",
        "\n",
        "  def forward(self,x):\n",
        "    input = x\n",
        "    for layer in self.layers:\n",
        "      input = layer.forward(input)\n",
        "    return input\n",
        "\n",
        "  def get_parameters(self):\n",
        "    params = list()\n",
        "    for layer in self.layers:\n",
        "      params += layer.get_parameters()\n",
        "    return params "
      ],
      "metadata": {
        "id": "Yd3U6XJYDYPc"
      },
      "execution_count": 131,
      "outputs": []
    },
    {
      "cell_type": "markdown",
      "source": [
        "## Loss Function Layers"
      ],
      "metadata": {
        "id": "EcDm124cD-AS"
      }
    },
    {
      "cell_type": "code",
      "source": [
        "class MSELoss(Layer):\n",
        "  def __init__(self):\n",
        "\n",
        "    super().__init__()\n",
        "\n",
        "  def __call__(self,pred,targets):\n",
        "    return ((pred - targets) * (pred - targets)).sum(0)\n",
        "  #def forward(self,pred,targets):\n",
        "    \n",
        "\n",
        "  "
      ],
      "metadata": {
        "id": "eZ-zU3guEAtT"
      },
      "execution_count": 133,
      "outputs": []
    },
    {
      "cell_type": "code",
      "source": [
        "np.random.seed(0)\n",
        "\n",
        "data = Tensor(np.array([[0,0],[0,1],[1,1],[1,1]]),autograd=True) \n",
        "target = Tensor(np.array([[0],[1],[0],[1]]),autograd=True)\n",
        "\n",
        "\n",
        "model = Sequential([Linear(2,3),Linear(3,1)])\n",
        "#model.add()\n",
        "\n",
        "optimizer = SGD(model.get_parameters(),lr=0.01)\n",
        "\n",
        "loss = MSELoss()\n",
        "\n",
        "for i in range(10):\n",
        "\n",
        "  pred = model.forward(data)\n",
        "\n",
        "  loss_value = loss(pred,target)\n",
        "\n",
        "  optimizer.zero_grad()\n",
        "\n",
        "  loss_value.backward(Tensor(np.ones_like(loss_value.data)))\n",
        "\n",
        "  optimizer.step()\n",
        "\n",
        "\n",
        "\n",
        "  print(loss_value.data)\n"
      ],
      "metadata": {
        "colab": {
          "base_uri": "https://localhost:8080/"
        },
        "id": "yAnDum9VCmkn",
        "outputId": "6c1ebb53-a82e-4f9a-d0f5-919a8e9936bf"
      },
      "execution_count": 136,
      "outputs": [
        {
          "output_type": "stream",
          "name": "stdout",
          "text": [
            "[7.37534399]\n",
            "[3.39089963]\n",
            "[2.3662581]\n",
            "[1.97188109]\n",
            "[1.78049273]\n",
            "[1.66799105]\n",
            "[1.59038736]\n",
            "[1.53015942]\n",
            "[1.47971884]\n",
            "[1.43552872]\n"
          ]
        }
      ]
    }
  ]
}